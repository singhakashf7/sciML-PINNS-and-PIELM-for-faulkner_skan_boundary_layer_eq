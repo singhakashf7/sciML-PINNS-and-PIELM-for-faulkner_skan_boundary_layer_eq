{
 "cells": [
  {
   "cell_type": "code",
   "execution_count": 13,
   "metadata": {},
   "outputs": [],
   "source": [
    "#important modules\n",
    "import sys\n",
    "import numpy as np\n",
    "import matplotlib.pyplot as plt"
   ]
  },
  {
   "cell_type": "code",
   "execution_count": 14,
   "metadata": {},
   "outputs": [],
   "source": [
    "# We use Runge kutta order four for solving the sistem\n",
    "def RungeKutta4(f, a, L, u, N):\n",
    "    \"\"\"\n",
    "    A function for numerical solution using RK4\n",
    "    Imputs:\n",
    "    =======\n",
    "    f : the right side fucntion of the system of ODE\n",
    "    a : eta = a in the domain interval [a, L]\n",
    "    L : eta = L\n",
    "    u : the initial condition\n",
    "    N : number of grid points\n",
    "    Returns:\n",
    "    ========\n",
    "    grid points\n",
    "    numerical solution\n",
    "    \"\"\"\n",
    "    h = (L - a) / N # step size\n",
    "    result = [] # empty list for storing the numerical solution\n",
    "    grid = [] # empty list for storing the grid points\n",
    "    result.append(u)\n",
    "    grid.append(a)\n",
    "    x = a\n",
    "    for i in range(1, N + 1): # implementation of RK4 algorithm\n",
    "        k1 = f(x, u)\n",
    "        k2 = f(x + h / 2, u + h * k1 / 2)\n",
    "        k3 = f(x + h / 2, u + h * k2 / 2)\n",
    "        k4 = f(x + h, u + h * k3)\n",
    "        u = u + h * (k1 + 2 * k2 + 2 * k3 + k4)/6\n",
    "        x = x + h\n",
    "        result.append(u)\n",
    "        grid.append(x)\n",
    "    return np.array(grid), np.array(result)"
   ]
  },
  {
   "cell_type": "code",
   "execution_count": 15,
   "metadata": {},
   "outputs": [],
   "source": [
    "# initial condition with the shooting parameter s,\n",
    "def u0(s):\n",
    "    return np.array([0, 0, s])"
   ]
  },
  {
   "cell_type": "code",
   "execution_count": 16,
   "metadata": {},
   "outputs": [],
   "source": [
    "# F(s) = u_2(s, L) - 1\n",
    "def F(s, L):\n",
    "    u = u0(s)\n",
    "    grid, result = RungeKutta4(f, a, L, u, N)\n",
    "    #y = result[len(result)-2] #?\n",
    "    F = (result[len(result)-2])[1] - b\n",
    "    return F"
   ]
  },
  {
   "cell_type": "code",
   "execution_count": 17,
   "metadata": {},
   "outputs": [],
   "source": [
    "#formulate as a first-order system and define the right side function for the nonlinear ode\n",
    "def f(t, u):\n",
    "    f = np.zeros(3)\n",
    "    f[0] = u[1]\n",
    "    f[1] = u[2]\n",
    "    f[2] = -0.5 * u[0] * u[2]\n",
    "    return f"
   ]
  },
  {
   "cell_type": "code",
   "execution_count": 18,
   "metadata": {},
   "outputs": [],
   "source": [
    "# the secant method for solving the algebric equation F(s) = 0\n",
    "def Secant(F, s0, s1, eps, L):\n",
    "    global s\n",
    "    F0 = F(s0, L)\n",
    "    F1 = F(s1, L)\n",
    "    iteration_counter = 0\n",
    "    while abs(F1) > eps and iteration_counter < 100:\n",
    "        try:\n",
    "            denominator = (F1 - F0) / (s1 - s0)\n",
    "            s = s1 - F1 / denominator\n",
    "        except ZeroDivisionError:\n",
    "            print('Error! - denominator zero for s =', s1)\n",
    "            sys.exit(1) # Abort with error\n",
    "        s0 = s1\n",
    "        s1 = s\n",
    "        F0 = F1\n",
    "        F1 = F(s1, L)\n",
    "        iteration_counter = iteration_counter + 1\n",
    "# here, either a solution is found or too many iterations\n",
    "    if abs(F(s,L)) > eps:\n",
    "        iteration_counter = -1\n",
    "    return s, iteration_counter"
   ]
  },
  {
   "cell_type": "code",
   "execution_count": 19,
   "metadata": {},
   "outputs": [
    {
     "name": "stdout",
     "output_type": "stream",
     "text": [
      "s = 0.33257308624087173\n",
      "number of iteration =  6\n"
     ]
    }
   ],
   "source": [
    "# Parameters\n",
    "a = 0\n",
    "b = 1\n",
    "L = 6\n",
    "N = 1000\n",
    "# initializing the parameter s, and set the tollerance eps\n",
    "s0 = 1.0\n",
    "s1 = 2.0\n",
    "eps = 1.0e-6\n",
    "s, no_iterations = Secant(F, s0, s1, eps, L)\n",
    "print('s =', s)\n",
    "print('number of iteration = ', no_iterations)"
   ]
  },
  {
   "cell_type": "code",
   "execution_count": 20,
   "metadata": {},
   "outputs": [],
   "source": [
    "# Now we use the approperaite shooting parameter in the initial condition and solve for the system of ODE\n",
    "u = u0(s)\n",
    "grid, result = RungeKutta4(f, a, L, u, N)"
   ]
  },
  {
   "cell_type": "code",
   "execution_count": 21,
   "metadata": {},
   "outputs": [
    {
     "data": {
      "image/png": "[encoded data removed]",
      "text/plain": [
       "<Figure size 720x432 with 1 Axes>"
      ]
     },
     "metadata": {
      "needs_background": "light"
     },
     "output_type": "display_data"
    }
   ],
   "source": [
    "# Ploting the results\n",
    "plt.figure(figsize=(10, 6))\n",
    "plt.plot(grid, result[:, 0], grid, result[:, 1], grid, result[:, 2])\n",
    "plt.xlabel('$\\eta$')\n",
    "plt.ylabel(\"f\")\n",
    "plt.ylim([0,5])\n",
    "plt.grid(True)\n",
    "plt.title(\" Blasius' Boundary layer \")\n",
    "plt.legend(['f', \"f'\", \"f''\"])\n",
    "plt.savefig('Shooting.png')\n",
    "plt.show()\n"
   ]
  }
 ],
 "metadata": {
  "kernelspec": {
   "display_name": "Python 3",
   "language": "python",
   "name": "python3"
  },
  "language_info": {
   "codemirror_mode": {
    "name": "ipython",
    "version": 3
   },
   "file_extension": ".py",
   "mimetype": "text/x-python",
   "name": "python",
   "nbconvert_exporter": "python",
   "pygments_lexer": "ipython3",
   "version": "3.9.6"
  },
  "orig_nbformat": 4
 },
 "nbformat": 4,
 "nbformat_minor": 2
}
